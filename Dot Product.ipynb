{
 "cells": [
  {
   "cell_type": "code",
   "execution_count": 1,
   "metadata": {},
   "outputs": [],
   "source": [
    "import numpy as np"
   ]
  },
  {
   "cell_type": "code",
   "execution_count": 7,
   "metadata": {},
   "outputs": [
    {
     "name": "stdout",
     "output_type": "stream",
     "text": [
      "[[ 0.17640523  0.04001572  0.0978738 ]\n",
      " [ 0.22408932  0.1867558  -0.09772779]\n",
      " [ 0.09500884 -0.01513572 -0.01032189]\n",
      " [ 0.04105985  0.01440436  0.14542735]]\n"
     ]
    }
   ],
   "source": [
    "X=[[1,2,3,2.5],[2.0,5.0,-1.0,2.0],[-1.5,2.7,3.3,-0.8]]\n",
    "np.random.seed(0)\n",
    "class Layer_Dense:\n",
    "    def __init__(self,n_inputs,n_neurons):\n",
    "# weights of nn represented in a class, n_inputs,n_neurons give the matrix a shape.\n",
    "        self.weights = 0.10*np.random.randn(n_inputs,n_neurons)\n",
    "# assign init value of 0 to biases.\n",
    "        self.biases = np.zeros((1,n_neurons))\n",
    "    def forward(self,outputs):\n",
    "# to get the output we use np.dot() method to do the matrix multiplication.\n",
    "        self.outputs = np.dot(self.inputs,self.weights)+ self.biases\n",
    "        \n",
    "        \n",
    "#\n",
    "Layer1 = Layer_Dense(4,5)\n",
    "layer2 = Layer_Dense(5,)"
   ]
  },
  {
   "cell_type": "code",
   "execution_count": null,
   "metadata": {},
   "outputs": [],
   "source": []
  },
  {
   "cell_type": "code",
   "execution_count": null,
   "metadata": {},
   "outputs": [],
   "source": [
    "weights=[[0.2,0.8,-0.5,1],[0.5,-0.91,0.26,-0.5],[-0.26,-0.27,0.17,0.87]]\n",
    "weights2=[[0.1,-0.14,0.5],[0.5,-0.12,-0.33],[-0.44,0.73,-0.13]]\n",
    "biases = [2,3,0.5]\n",
    "biases2 =[-1,2,-0.5]\n",
    "\n",
    "\n",
    "layer1_outputs = np.dot(inputs,np.array(weights).T)+biases\n",
    "layer2_outputs = np.dot(layer1_outputs,np.array(weights2).T) + biases2\n",
    "\n",
    "#print(output)\n",
    "print(layer2_outputs)\n"
   ]
  },
  {
   "cell_type": "code",
   "execution_count": 17,
   "metadata": {},
   "outputs": [
    {
     "name": "stdout",
     "output_type": "stream",
     "text": [
      "alegria\n"
     ]
    }
   ],
   "source": [
    "nombregata=\"alegria\"\n",
    "print(nombregata)"
   ]
  }
 ],
 "metadata": {
  "kernelspec": {
   "display_name": "Python 3",
   "language": "python",
   "name": "python3"
  },
  "language_info": {
   "codemirror_mode": {
    "name": "ipython",
    "version": 3
   },
   "file_extension": ".py",
   "mimetype": "text/x-python",
   "name": "python",
   "nbconvert_exporter": "python",
   "pygments_lexer": "ipython3",
   "version": "3.7.6"
  }
 },
 "nbformat": 4,
 "nbformat_minor": 4
}
