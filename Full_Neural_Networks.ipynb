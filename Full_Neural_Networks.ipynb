{
  "nbformat": 4,
  "nbformat_minor": 0,
  "metadata": {
    "colab": {
      "name": "Full Neural Networks.ipynb",
      "provenance": [],
      "authorship_tag": "ABX9TyNglS9ncH4pX9njiwdHa6Jh",
      "include_colab_link": true
    },
    "kernelspec": {
      "name": "python3",
      "display_name": "Python 3"
    },
    "language_info": {
      "name": "python"
    }
  },
  "cells": [
    {
      "cell_type": "markdown",
      "metadata": {
        "id": "view-in-github",
        "colab_type": "text"
      },
      "source": [
        "<a href=\"https://colab.research.google.com/github/123-code/Deep-Learning-from-scratch/blob/main/Full_Neural_Networks.ipynb\" target=\"_parent\"><img src=\"https://colab.research.google.com/assets/colab-badge.svg\" alt=\"Open In Colab\"/></a>"
      ]
    },
    {
      "cell_type": "code",
      "metadata": {
        "colab": {
          "base_uri": "https://localhost:8080/"
        },
        "id": "KBeWQv78cvxr",
        "outputId": "ea3182f6-c615-4206-d07a-017eeedfc147"
      },
      "source": [
        "import numpy as np\n",
        "!pip install nnfs\n"
      ],
      "execution_count": 1,
      "outputs": [
        {
          "output_type": "stream",
          "text": [
            "Collecting nnfs\n",
            "  Downloading https://files.pythonhosted.org/packages/06/8c/3003a41d5229e65da792331b060dcad8100a0a5b9760f8c2074cde864148/nnfs-0.5.1-py3-none-any.whl\n",
            "Requirement already satisfied: numpy in /usr/local/lib/python3.7/dist-packages (from nnfs) (1.19.5)\n",
            "Installing collected packages: nnfs\n",
            "Successfully installed nnfs-0.5.1\n"
          ],
          "name": "stdout"
        }
      ]
    },
    {
      "cell_type": "code",
      "metadata": {
        "colab": {
          "base_uri": "https://localhost:8080/"
        },
        "id": "CdhWHvN6c90G",
        "outputId": "924b693e-3cda-428d-83d2-8223274aa98e"
      },
      "source": [
        "import nnfs\n",
        "from nnfs.datasets import spiral_data\n",
        "nnfs.init()\n",
        "\n",
        "\n",
        "class Layer:\n",
        "  def __init__(self,inputs,nneurons):\n",
        "    self.weights = 0.10 * np.random.randn(inputs,nneurons)\n",
        "    self.bias = np.zeros((1,nneurons))\n",
        "\n",
        "  def forward(self,inputs):\n",
        "      self.output = np.dot(inputs,self.weights) + self.bias\n",
        "     \n",
        "\n",
        "\n",
        "class RELU_A:\n",
        "  def forward(self,inputs):\n",
        "\n",
        "    self.output = np.maximum(0,inputs)\n",
        "\n",
        "\n",
        "class Softmax:\n",
        "  def forward(self,inputs):\n",
        "    exp_values = np.exp(inputs - np.max(inputs,axis=1,keepdims=True))\n",
        "    probabilities = exp_values/np.sum(exp_values,axis=1,keepdims=True)\n",
        "    self.output = probabilities\n",
        "\n",
        "\n",
        "X,y = spiral_data(samples=100,classes=3)\n",
        "dense1 = Layer(2,3)\n",
        "activation1 = RELU_A()\n",
        "\n",
        "dense2 = Layer(3,3)\n",
        "activation2 = Softmax()\n",
        "dense1.forward(X)\n",
        "activation1.forward(dense1.output)\n",
        "dense2.forward(activation1.output)\n",
        "activation2.forward(dense2.output)\n",
        "print(activation2.output[:5])"
      ],
      "execution_count": 2,
      "outputs": [
        {
          "output_type": "stream",
          "text": [
            "[[0.33333334 0.33333334 0.33333334]\n",
            " [0.33331734 0.3333183  0.33336434]\n",
            " [0.3332888  0.33329153 0.33341965]\n",
            " [0.33325943 0.33326396 0.33347666]\n",
            " [0.33323312 0.33323926 0.33352762]]\n"
          ],
          "name": "stdout"
        }
      ]
    }
  ]
}