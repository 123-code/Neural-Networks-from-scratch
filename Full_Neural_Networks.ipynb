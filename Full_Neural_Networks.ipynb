{
  "nbformat": 4,
  "nbformat_minor": 0,
  "metadata": {
    "colab": {
      "name": "Full Neural Networks.ipynb",
      "provenance": [],
      "authorship_tag": "ABX9TyMl4p1l30DF9YWoVV+90sIw",
      "include_colab_link": true
    },
    "kernelspec": {
      "display_name": "Python 3",
      "name": "python3"
    },
    "language_info": {
      "name": "python"
    }
  },
  "cells": [
    {
      "cell_type": "markdown",
      "metadata": {
        "id": "view-in-github",
        "colab_type": "text"
      },
      "source": [
        "<a href=\"https://colab.research.google.com/github/123-code/Deep-Learning-from-scratch/blob/main/Full_Neural_Networks.ipynb\" target=\"_parent\"><img src=\"https://colab.research.google.com/assets/colab-badge.svg\" alt=\"Open In Colab\"/></a>"
      ]
    },
    {
      "cell_type": "code",
      "metadata": {
        "colab": {
          "base_uri": "https://localhost:8080/"
        },
        "id": "KBeWQv78cvxr",
        "outputId": "4905ad3e-71b7-48d4-d459-b7b1cec52115"
      },
      "source": [
        "import numpy as np\n",
        "!pip install nnfs\n"
      ],
      "execution_count": 1,
      "outputs": [
        {
          "output_type": "stream",
          "text": [
            "Collecting nnfs\n",
            "  Downloading https://files.pythonhosted.org/packages/06/8c/3003a41d5229e65da792331b060dcad8100a0a5b9760f8c2074cde864148/nnfs-0.5.1-py3-none-any.whl\n",
            "Requirement already satisfied: numpy in /usr/local/lib/python3.7/dist-packages (from nnfs) (1.19.5)\n",
            "Installing collected packages: nnfs\n",
            "Successfully installed nnfs-0.5.1\n"
          ],
          "name": "stdout"
        }
      ]
    },
    {
      "cell_type": "code",
      "metadata": {
        "colab": {
          "base_uri": "https://localhost:8080/"
        },
        "id": "CdhWHvN6c90G",
        "outputId": "fb680f03-94ff-4325-c0f2-cd11e2e056f1"
      },
      "source": [
        "import nnfs\n",
        "from nnfs.datasets import spiral_data\n",
        "nnfs.init()\n",
        "\n",
        "\n",
        "class Layer:\n",
        "  def __init__(self,inputs,nneurons):\n",
        "    self.weights = 0.10 * np.random.randn(inputs,nneurons)\n",
        "    self.bias = np.zeros((1,nneurons))\n",
        "\n",
        "  def forward(self,inputs):\n",
        "      self.output = np.dot(inputs,self.weights) + self.bias\n",
        "     \n",
        "\n",
        "\n",
        "class RELU_A:\n",
        "  def forward(self,inputs):\n",
        "\n",
        "    self.output = np.maximum(0,inputs)\n",
        "\n",
        "\n",
        "class Softmax:\n",
        "  def forward(self,inputs):\n",
        "    exp_values = np.exp(inputs - np.max(inputs,axis=1,keepdims=True))\n",
        "    probabilities = exp_values/np.sum(exp_values,axis=1,keepdims=True)\n",
        "    self.output = probabilities\n",
        "\n",
        "class Loss:\n",
        "  # output from the model and target values.\n",
        "  def calculate(self,output,y):\n",
        "    sample_losses = self.forward(output,y)\n",
        "    data_loss = np.mean(sample_losses)\n",
        "    return data_loss\n",
        "\n",
        "class categoricalcrossentropy(Loss):\n",
        "  def forward(self,y_pred,y_true):\n",
        "    samples = len(y_pred)\n",
        "    y_pred_clipped = np.clip(y_pred,1e-7,1-1e-7)\n",
        "\n",
        "    if len(y_true.shape)==1:\n",
        "      correct_conf = y_pred_clipped[range(samples),y_true]\n",
        "    elif len(y_true.shape)==2:\n",
        "      correct_conf = np.sum(y_pred_clipped*y_true,axis=1)\n",
        "    \n",
        "    negative_log_likelihoods = np.log(correct_conf)\n",
        "    return negative_log_likelihoods\n",
        "\n",
        "\n",
        "\n",
        "X,y = spiral_data(samples=100,classes=3)\n",
        "dense1 = Layer(2,3)\n",
        "activation1 = RELU_A()\n",
        "\n",
        "dense2 = Layer(3,3)\n",
        "activation2 = Softmax()\n",
        "dense1.forward(X)\n",
        "activation1.forward(dense1.output)\n",
        "dense2.forward(activation1.output)\n",
        "activation2.forward(dense2.output)\n",
        "print(activation2.output[:5])\n",
        "Loss = categoricalcrossentropy()\n",
        "loss = Loss.calculate(activation2.output,y)\n",
        "print(\"Loss:\",loss)"
      ],
      "execution_count": 4,
      "outputs": [
        {
          "output_type": "stream",
          "text": [
            "[[0.33333334 0.33333334 0.33333334]\n",
            " [0.33331734 0.3333183  0.33336434]\n",
            " [0.3332888  0.33329153 0.33341965]\n",
            " [0.33325943 0.33326396 0.33347666]\n",
            " [0.33323312 0.33323926 0.33352762]]\n",
            "Loss: -1.098445\n"
          ],
          "name": "stdout"
        }
      ]
    },
    {
      "cell_type": "markdown",
      "metadata": {
        "id": "cFMRKLLzaIVj"
      },
      "source": [
        "Neural Network 2\n"
      ]
    },
    {
      "cell_type": "code",
      "metadata": {
        "colab": {
          "base_uri": "https://localhost:8080/"
        },
        "id": "aCLrh13-aKhp",
        "outputId": "35cbc5cd-5815-463c-94db-c4876ca76bca"
      },
      "source": [
        "data = [[2,5,8,9],[6,8,3,1],[7,9,4,5],[6,4,2,1]]\n",
        "#np.random.seed(0)\n",
        "# setting initial weights and biases. \n",
        "class Layer1:\n",
        "  def __init__(self,n_inputs,n_neurons):\n",
        "    self.weights = 0.10 * np.random.randn(n_inputs,n_neurons)\n",
        "    self.biases = np.zeros((1,n_neurons))\n",
        "\n",
        "  def Forward_pass(self,inputs):\n",
        "    self.output = np.dot(inputs,self.weights) + self.biases\n",
        "# Values printed in output are a matrix of each neurons dot product result. \n",
        "\n",
        "class RELU:\n",
        "  def forward(self,inputs):\n",
        "\n",
        "    self.output = np.maximum(0,inputs)\n",
        "  \n",
        "\n",
        "L1 = Layer1(4,3)\n",
        "L1.Forward_pass(data)\n",
        "print(L1.output)\n",
        "activation_1 = RELU()\n",
        "activation_1.forward(L1.output)\n",
        "print(activation_1.output[:5])\n"
      ],
      "execution_count": null,
      "outputs": [
        {
          "output_type": "stream",
          "text": [
            "[[0.48369895 1.06012667 2.91633185]\n",
            " [1.78269892 0.50147318 3.0249836 ]\n",
            " [1.97679322 0.88927948 3.86635385]\n",
            " [1.4470814  0.76571782 2.16623242]]\n",
            "[[0.48369895 1.06012667 2.91633185]\n",
            " [1.78269892 0.50147318 3.0249836 ]\n",
            " [1.97679322 0.88927948 3.86635385]\n",
            " [1.4470814  0.76571782 2.16623242]]\n"
          ],
          "name": "stdout"
        }
      ]
    },
    {
      "cell_type": "code",
      "metadata": {
        "id": "Uitg8vBbAm_v",
        "colab": {
          "base_uri": "https://localhost:8080/",
          "height": 229
        },
        "outputId": "2ff7da4e-1d81-4b14-fd75-ae1ce0452aec"
      },
      "source": [
        "softmax_outputs = np.array([0.7,0.1,0.2],\n",
        "                           [0.1,0.5,0.4],\n",
        "                           [0.02,0.9,0.08])\n",
        "\n",
        "class_targets = [0,1,1]\n",
        "print(softmax_outputs[0,1,2],class_targets)"
      ],
      "execution_count": 2,
      "outputs": [
        {
          "output_type": "error",
          "ename": "TypeError",
          "evalue": "ignored",
          "traceback": [
            "\u001b[0;31m---------------------------------------------------------------------------\u001b[0m",
            "\u001b[0;31mTypeError\u001b[0m                                 Traceback (most recent call last)",
            "\u001b[0;32m<ipython-input-2-ce2fee07dbd1>\u001b[0m in \u001b[0;36m<module>\u001b[0;34m()\u001b[0m\n\u001b[1;32m      1\u001b[0m softmax_outputs = np.array([0.7,0.1,0.2],\n\u001b[1;32m      2\u001b[0m                            \u001b[0;34m[\u001b[0m\u001b[0;36m0.1\u001b[0m\u001b[0;34m,\u001b[0m\u001b[0;36m0.5\u001b[0m\u001b[0;34m,\u001b[0m\u001b[0;36m0.4\u001b[0m\u001b[0;34m]\u001b[0m\u001b[0;34m,\u001b[0m\u001b[0;34m\u001b[0m\u001b[0;34m\u001b[0m\u001b[0m\n\u001b[0;32m----> 3\u001b[0;31m                            [0.02,0.9,0.08])\n\u001b[0m\u001b[1;32m      4\u001b[0m \u001b[0;34m\u001b[0m\u001b[0m\n\u001b[1;32m      5\u001b[0m \u001b[0mclass_targets\u001b[0m \u001b[0;34m=\u001b[0m \u001b[0;34m[\u001b[0m\u001b[0;36m0\u001b[0m\u001b[0;34m,\u001b[0m\u001b[0;36m1\u001b[0m\u001b[0;34m,\u001b[0m\u001b[0;36m1\u001b[0m\u001b[0;34m]\u001b[0m\u001b[0;34m\u001b[0m\u001b[0;34m\u001b[0m\u001b[0m\n",
            "\u001b[0;31mTypeError\u001b[0m: array() takes from 1 to 2 positional arguments but 3 were given"
          ]
        }
      ]
    }
  ]
}