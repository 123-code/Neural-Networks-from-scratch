{
  "nbformat": 4,
  "nbformat_minor": 0,
  "metadata": {
    "accelerator": "GPU",
    "colab": {
      "name": "Deep_Learning.ipynb",
      "provenance": [],
      "collapsed_sections": [],
      "authorship_tag": "ABX9TyOEaE9dz3b/xVqCNcIGeI9D",
      "include_colab_link": true
    },
    "kernelspec": {
      "display_name": "Python 3",
      "name": "python3"
    },
    "language_info": {
      "name": "python"
    }
  },
  "cells": [
    {
      "cell_type": "markdown",
      "metadata": {
        "id": "view-in-github",
        "colab_type": "text"
      },
      "source": [
        "<a href=\"https://colab.research.google.com/github/123-code/Deep-Learning-from-scratch/blob/main/Deep_Learning.ipynb\" target=\"_parent\"><img src=\"https://colab.research.google.com/assets/colab-badge.svg\" alt=\"Open In Colab\"/></a>"
      ]
    },
    {
      "cell_type": "code",
      "metadata": {
        "colab": {
          "base_uri": "https://localhost:8080/"
        },
        "id": "lF8UtSP-INcS",
        "outputId": "865a968f-4384-4aa4-afc7-e27d2a2efeb5"
      },
      "source": [
        "#Basic neural network from scratch\n",
        "inputs=[1,2,3,2.5]\n",
        "weights=[0.2,0.8,-0.5,1.0]\n",
        "bias=2\n",
        "\n",
        "output = inputs[0] * weights[0] + inputs[1] * weights[1] + inputs[2] * weights[2] + inputs[3] * weights[3] + bias\n",
        "print(output)\n"
      ],
      "execution_count": null,
      "outputs": [
        {
          "output_type": "stream",
          "text": [
            "4.8\n"
          ],
          "name": "stdout"
        }
      ]
    },
    {
      "cell_type": "code",
      "metadata": {
        "colab": {
          "base_uri": "https://localhost:8080/"
        },
        "id": "zy519HoQPrT5",
        "outputId": "8dc76e06-e0af-4a0f-d078-0edd487f0f97"
      },
      "source": [
        "import numpy as np\n",
        "inputs = [1,2,3,4,5]\n",
        "weights = [3,2,4,5,7]\n",
        "bias = 2\n",
        "\n",
        "output = inputs[0] * weights[0] + inputs[1] * weights[1] + inputs[2] * weights[2] + inputs[3] * weights[3] + inputs[4] * weights[4] + bias\n",
        "print(output)"
      ],
      "execution_count": 2,
      "outputs": [
        {
          "output_type": "stream",
          "text": [
            "76\n"
          ],
          "name": "stdout"
        }
      ]
    },
    {
      "cell_type": "code",
      "metadata": {
        "colab": {
          "base_uri": "https://localhost:8080/"
        },
        "id": "zq7X7PF-JzWY",
        "outputId": "684ef958-c396-415e-ebd9-b0100295cf42"
      },
      "source": [
        "inputs = [[1,2,3,2.5],\n",
        "          [2.0,5.0,-1.0,2.0],\n",
        "          [-1.5,2.7,3.3,-0.8]]\n",
        "\n",
        "weights = [[0.2,0.8,-0.5,1.0],\n",
        "           [0.5,0.91,0.26,-0.5],\n",
        "           [-0.26,-0.27,0.17,0.87]]\n",
        "\n",
        "biases = [2,3,0.5]\n",
        "\n",
        "weights2 = [[0.1,-0.14,0.5],\n",
        "            [-0.5,0.12,-0.33],\n",
        "            [-0.44,0.73,-0.13]]\n",
        "\n",
        "biases2 = [-1,2,-0.5]\n",
        "\n",
        "\n",
        "layer1_outputs = np.dot(inputs,np.array(weights).T) + biases\n",
        "#print(output)\n",
        "layer2_outputs = np.dot(layer1_outputs,np.array(weights2).T) + biases2\n",
        "\n",
        "print(layer2_outputs)"
      ],
      "execution_count": 9,
      "outputs": [
        {
          "output_type": "stream",
          "text": [
            "[[-0.0065  -0.60505  0.61845]\n",
            " [-1.0306  -1.6412   0.8797 ]\n",
            " [-1.6811   2.00222  3.23067]]\n"
          ],
          "name": "stdout"
        }
      ]
    }
  ]
}