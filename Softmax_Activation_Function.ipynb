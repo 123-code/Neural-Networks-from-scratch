{
  "nbformat": 4,
  "nbformat_minor": 0,
  "metadata": {
    "colab": {
      "name": "Softmax Activation Function.ipynb",
      "provenance": [],
      "authorship_tag": "ABX9TyN3Yv0/59A5xt5E2JmP47hF",
      "include_colab_link": true
    },
    "kernelspec": {
      "name": "python3",
      "display_name": "Python 3"
    },
    "language_info": {
      "name": "python"
    }
  },
  "cells": [
    {
      "cell_type": "markdown",
      "metadata": {
        "id": "view-in-github",
        "colab_type": "text"
      },
      "source": [
        "<a href=\"https://colab.research.google.com/github/123-code/Deep-Learning-from-scratch/blob/main/Softmax_Activation_Function.ipynb\" target=\"_parent\"><img src=\"https://colab.research.google.com/assets/colab-badge.svg\" alt=\"Open In Colab\"/></a>"
      ]
    },
    {
      "cell_type": "code",
      "metadata": {
        "colab": {
          "base_uri": "https://localhost:8080/"
        },
        "id": "7v4MguZQLa8L",
        "outputId": "8e30c7cc-cb88-4a22-b01c-ff3e1c20ec6b"
      },
      "source": [
        "import math \n",
        "\n",
        "\n",
        "\n",
        "layer_outputs = [4.8,1.21,2.385]\n",
        "\n",
        "E = math.e\n",
        "\n",
        "exp_values = []\n",
        "\n",
        "for output in layer_outputs:\n",
        "  exp_values.append(E**output)\n",
        "\n",
        "print(exp_values)\n",
        "\n",
        "norm_base = sum(exp_values)\n",
        "norm_values = []\n",
        "\n",
        "for i in exp_values:\n",
        "  norm_values.append(i / norm_base)\n",
        "\n",
        "print(norm_values)\n",
        "print(sum(norm_values))"
      ],
      "execution_count": 6,
      "outputs": [
        {
          "output_type": "stream",
          "text": [
            "[121.51041751873483, 3.353484652549023, 10.859062664920513]\n",
            "[0.8952826639572619, 0.024708306782099374, 0.0800090292606387]\n",
            "0.9999999999999999\n"
          ],
          "name": "stdout"
        }
      ]
    },
    {
      "cell_type": "markdown",
      "metadata": {
        "id": "WcgVh_A2Rbo3"
      },
      "source": [
        "Numpy implementation"
      ]
    },
    {
      "cell_type": "code",
      "metadata": {
        "colab": {
          "base_uri": "https://localhost:8080/"
        },
        "id": "aD5vDwStRY44",
        "outputId": "8c116a63-38d3-4bc3-c7e6-bf68f2edf939"
      },
      "source": [
        "import numpy as np\n",
        "layer_outputs = [4.8,1.21,2.385]\n",
        "\n",
        "E = math.e\n",
        "\n",
        "exp_values = np.exp(layer_outputs)\n",
        "print(exp_values)\n",
        "\n",
        "norm_values = exp_values/np.sum(exp_values)\n",
        "print(norm_values)\n",
        "print(sum(norm_values))"
      ],
      "execution_count": 3,
      "outputs": [
        {
          "output_type": "stream",
          "text": [
            "[121.51041752   3.35348465  10.85906266]\n",
            "[0.89528266 0.02470831 0.08000903]\n",
            "0.9999999999999999\n"
          ],
          "name": "stdout"
        }
      ]
    },
    {
      "cell_type": "markdown",
      "metadata": {
        "id": "PaWA-vmYT3SL"
      },
      "source": [
        "Softmax With batches"
      ]
    },
    {
      "cell_type": "code",
      "metadata": {
        "colab": {
          "base_uri": "https://localhost:8080/"
        },
        "id": "_8jrZ97TT2ch",
        "outputId": "e724d2ca-8a8a-4898-e85f-3f7179fca618"
      },
      "source": [
        "layer_outputs = [[4.8,1.21,2.385],\n",
        "                 [8.9,-1.81,0.2],\n",
        "                 [1.41,1.051,0.026]]\n",
        "\n",
        "exp = np.exp(layer_outputs)  \n",
        "\n",
        "\n",
        "# we use the axis=1 to get a sum of the rows, not the columns \n",
        "# keepdims to change the matrix orientation.\n",
        "\n",
        "normalized = exp / np.sum(layer_outputs,axis=1,keepdims=True)\n",
        "\n",
        "\n",
        "print(normalized)\n"
      ],
      "execution_count": 13,
      "outputs": [
        {
          "output_type": "stream",
          "text": [
            "[[1.44741415e+01 3.99462138e-01 1.29351551e+00]\n",
            " [1.00575769e+03 2.24491271e-02 1.67544960e-01]\n",
            " [1.64694628e+00 1.15018504e+00 4.12682327e-01]]\n"
          ],
          "name": "stdout"
        }
      ]
    }
  ]
}