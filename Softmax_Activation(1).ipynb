{
  "nbformat": 4,
  "nbformat_minor": 0,
  "metadata": {
    "colab": {
      "name": "Softmax_Activation(1).ipynb",
      "provenance": [],
      "authorship_tag": "ABX9TyNq7YMGNaQKTdyAtOU90qIa",
      "include_colab_link": true
    },
    "kernelspec": {
      "name": "python3",
      "display_name": "Python 3"
    },
    "language_info": {
      "name": "python"
    }
  },
  "cells": [
    {
      "cell_type": "markdown",
      "metadata": {
        "id": "view-in-github",
        "colab_type": "text"
      },
      "source": [
        "<a href=\"https://colab.research.google.com/github/123-code/Deep-Learning-from-scratch/blob/main/Softmax_Activation(1).ipynb\" target=\"_parent\"><img src=\"https://colab.research.google.com/assets/colab-badge.svg\" alt=\"Open In Colab\"/></a>"
      ]
    },
    {
      "cell_type": "markdown",
      "metadata": {
        "id": "-I3_Wm02pIl5"
      },
      "source": [
        "The softmax activation function converts a numbers vector into a probability one where its elements add to one."
      ]
    },
    {
      "cell_type": "code",
      "metadata": {
        "colab": {
          "base_uri": "https://localhost:8080/"
        },
        "id": "cULpUzUQosNf",
        "outputId": "eee5702a-64f2-4960-dd71-1fdafc66862b"
      },
      "source": [
        "#from math import exp\n",
        "values = [1,3,2]\n",
        "p1 = exp(values[0])/(exp(values[1]) + exp(values[2]))\n",
        "p2 = exp(values[1])/(exp(values[1]) + exp(values[2]))\n",
        "p3 = exp(values[2])/(exp(values[1]) + exp(values[2]))\n",
        "print(p1,p2,p3)\n",
        "\n",
        "print(p1+p2+p3)"
      ],
      "execution_count": null,
      "outputs": [
        {
          "output_type": "stream",
          "text": [
            "0.09893801980144719 0.7310585786300048 0.2689414213699951\n",
            "1.0989380198014471\n"
          ],
          "name": "stdout"
        }
      ]
    },
    {
      "cell_type": "markdown",
      "metadata": {
        "id": "7ZSDIbRwsqLz"
      },
      "source": [
        "Softmax Implementation on small data array"
      ]
    },
    {
      "cell_type": "markdown",
      "metadata": {
        "id": "FZpp5PBDwBqM"
      },
      "source": [
        "The softmax activation function is used on the output layer of a neural network with multiclassification."
      ]
    },
    {
      "cell_type": "code",
      "metadata": {
        "colab": {
          "base_uri": "https://localhost:8080/"
        },
        "id": "Hd4x1uM_smj1",
        "outputId": "7ff6b338-dc61-44e4-a210-484666947cdd"
      },
      "source": [
        "\n",
        "from numpy import exp\n",
        "\n",
        "def Softmax(data_vector):\n",
        "\n",
        "  # get i**e for each element in data\n",
        "  e = exp(data_vector)\n",
        "  # return probability/sum of probabilities\n",
        "  return e / e.sum()\n",
        "\n",
        "data = [2,6,3]\n",
        "Func_Output = Softmax(data)\n",
        "print(Func_Output)\n",
        "print(sum(Func_Output))\n"
      ],
      "execution_count": null,
      "outputs": [
        {
          "output_type": "stream",
          "text": [
            "[0.01714783 0.93623955 0.04661262]\n",
            "1.0\n"
          ],
          "name": "stdout"
        }
      ]
    }
  ]
}