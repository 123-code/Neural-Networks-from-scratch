{
 "cells": [
  {
   "cell_type": "code",
   "execution_count": 14,
   "metadata": {},
   "outputs": [
    {
     "name": "stdout",
     "output_type": "stream",
     "text": [
      "<function W_sum at 0x000001A04ED2A558>\n"
     ]
    }
   ],
   "source": [
    "toes = [6.5,9]\n",
    "\n",
    "def W_sum(a,b):\n",
    "    assert(len(a)==len(b))\n",
    "    n_output = 0\n",
    "    \n",
    "    for i in range(len(a)):\n",
    "        n_output += a[i]*b[i]\n",
    "        return n_output\n",
    "def Neural_Network(inputs,weights):\n",
    "    prediction = W_sum\n",
    "    retu\n",
    "pred = Neural_Network(data,weights)\n",
    "print(pred)\n",
    "\n"
   ]
  },
  {
   "cell_type": "code",
   "execution_count": 17,
   "metadata": {},
   "outputs": [
    {
     "name": "stdout",
     "output_type": "stream",
     "text": [
      "0.8500000000000001\n"
     ]
    }
   ],
   "source": [
    "weights = [0.1,0.2,0]\n",
    "toes = [8.5,9.5,9.9,9.0]\n",
    "g_won = [0.65,0.8,0.8,0.9]\n",
    "n_fans = [1.2,1.3,0.5,1.0]\n",
    "inputs = [toes[0],g_won[0],n_fans[0]]\n",
    "\n",
    "\n",
    "\n",
    "def w_sum(a,b):\n",
    "    assert(len(a)==len(b))\n",
    "    n_output = 0\n",
    "    \n",
    "    for i in range(len(a)):\n",
    "        n_output += a[i]*b[i]\n",
    "        return n_output\n",
    "    \n",
    "    \n",
    "def neural_network(inputs,weights):\n",
    "    pred = w_sum(inputs,weights)\n",
    "    return pred\n",
    "\n",
    "pred = neural_network(inputs,weights)\n",
    "print(pred)"
   ]
  },
  {
   "cell_type": "code",
   "execution_count": null,
   "metadata": {},
   "outputs": [],
   "source": []
  }
 ],
 "metadata": {
  "kernelspec": {
   "display_name": "Python 3",
   "language": "python",
   "name": "python3"
  },
  "language_info": {
   "codemirror_mode": {
    "name": "ipython",
    "version": 3
   },
   "file_extension": ".py",
   "mimetype": "text/x-python",
   "name": "python",
   "nbconvert_exporter": "python",
   "pygments_lexer": "ipython3",
   "version": "3.7.6"
  }
 },
 "nbformat": 4,
 "nbformat_minor": 4
}
