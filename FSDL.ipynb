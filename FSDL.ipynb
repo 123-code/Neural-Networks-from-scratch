{
  "nbformat": 4,
  "nbformat_minor": 0,
  "metadata": {
    "colab": {
      "name": "FSDL.ipynb",
      "provenance": [],
      "authorship_tag": "ABX9TyM+tU7YuNRX8T/JP/e4GppH",
      "include_colab_link": true
    },
    "kernelspec": {
      "name": "python3",
      "display_name": "Python 3"
    },
    "language_info": {
      "name": "python"
    }
  },
  "cells": [
    {
      "cell_type": "markdown",
      "metadata": {
        "id": "view-in-github",
        "colab_type": "text"
      },
      "source": [
        "<a href=\"https://colab.research.google.com/github/123-code/Neural-Networks-from-scratch/blob/main/FSDL.ipynb\" target=\"_parent\"><img src=\"https://colab.research.google.com/assets/colab-badge.svg\" alt=\"Open In Colab\"/></a>"
      ]
    },
    {
      "cell_type": "code",
      "metadata": {
        "id": "Z9bP4URJde48"
      },
      "source": [
        ""
      ],
      "execution_count": null,
      "outputs": []
    },
    {
      "cell_type": "code",
      "metadata": {
        "colab": {
          "base_uri": "https://localhost:8080/"
        },
        "id": "zUucfsgJW1v0",
        "outputId": "e63848a3-1122-4983-aecf-5d74592a9c7b"
      },
      "source": [
        "import numpy as np\n",
        "\n",
        "n=50\n",
        "dim = 1\n",
        "\n",
        "Inputs = np.random.uniform(-1,1,(n,dim))\n",
        "\n",
        "weights_t = np.array([[5],])\n",
        "bias_true = np.array([10])\n",
        "\n",
        "y_true = Inputs @ weights_t + bias_true\n",
        "print(y_true)"
      ],
      "execution_count": 8,
      "outputs": [
        {
          "output_type": "stream",
          "name": "stdout",
          "text": [
            "[[ 8.38662732]\n",
            " [13.69744777]\n",
            " [ 5.78232637]\n",
            " [13.05883357]\n",
            " [ 7.43313775]\n",
            " [ 7.63532459]\n",
            " [12.51985288]\n",
            " [12.87362363]\n",
            " [10.93370694]\n",
            " [12.20823377]\n",
            " [12.43306497]\n",
            " [ 7.73584587]\n",
            " [ 6.29500444]\n",
            " [ 7.23583463]\n",
            " [10.94857322]\n",
            " [11.0435949 ]\n",
            " [14.35233433]\n",
            " [11.06997194]\n",
            " [11.48329419]\n",
            " [ 9.87680521]\n",
            " [14.46413095]\n",
            " [11.45519086]\n",
            " [ 7.76925067]\n",
            " [ 9.20598473]\n",
            " [ 9.52463006]\n",
            " [ 8.29837322]\n",
            " [ 9.8525335 ]\n",
            " [10.86323974]\n",
            " [ 8.00620567]\n",
            " [11.11798182]\n",
            " [11.09709958]\n",
            " [ 5.7857704 ]\n",
            " [ 8.186975  ]\n",
            " [ 8.14876119]\n",
            " [ 5.10223051]\n",
            " [ 9.83067987]\n",
            " [12.23698327]\n",
            " [ 5.38074037]\n",
            " [ 8.75783401]\n",
            " [11.19998746]\n",
            " [10.35515766]\n",
            " [ 7.15689136]\n",
            " [ 6.55873789]\n",
            " [13.22469338]\n",
            " [ 7.6580365 ]\n",
            " [11.08108939]\n",
            " [13.96887017]\n",
            " [12.10505555]\n",
            " [11.07191627]\n",
            " [12.45066732]]\n"
          ]
        }
      ]
    },
    {
      "cell_type": "markdown",
      "metadata": {
        "id": "WMmkEXLCdjYL"
      },
      "source": [
        "Forward Pass"
      ]
    },
    {
      "cell_type": "code",
      "metadata": {
        "colab": {
          "base_uri": "https://localhost:8080/"
        },
        "id": "KlnCI3yTYkIo",
        "outputId": "b8818f02-a95d-4612-a7e4-529ce39df840"
      },
      "source": [
        "class LinearFunction:\n",
        "  def __init__ (self,dim,n_outputs=1):\n",
        "    self.weights = np.random.randn(dim,n_outputs)\n",
        "    self.bias = np.zeros(1)\n",
        "\n",
        "  def __call__(self,x):\n",
        "    return x @ self.weights + self.bias\n",
        "\n",
        "  def backward(self):\n",
        "    self.weights_gradient = self.Inputs.T @ gradient\n",
        "    self.bias_gradient = gradient.sum(axis=0)\n",
        "    self.x_gradient = gradient @ self.weights.T\n",
        "    return self.x_gradient\n",
        "\n",
        "  def update(self,lr):\n",
        "    self.weights = self.weights - lr * self.weights_gradient\n",
        "    self.bias = self.bias * lr - self.bias_gradient\n",
        "\n",
        "linear = LinearFunction(dim)\n",
        "y_pred = linear(Inputs)\n",
        "print(y_pred)\n"
      ],
      "execution_count": 28,
      "outputs": [
        {
          "output_type": "stream",
          "name": "stdout",
          "text": [
            "[[-0.00644358]\n",
            " [ 0.01476708]\n",
            " [-0.01684479]\n",
            " [ 0.01221655]\n",
            " [-0.01025169]\n",
            " [-0.00944418]\n",
            " [ 0.01006394]\n",
            " [ 0.01147685]\n",
            " [ 0.00372909]\n",
            " [ 0.00881937]\n",
            " [ 0.00971732]\n",
            " [-0.00904271]\n",
            " [-0.01479723]\n",
            " [-0.01103969]\n",
            " [ 0.00378847]\n",
            " [ 0.00416797]\n",
            " [ 0.01738261]\n",
            " [ 0.00427332]\n",
            " [ 0.00592407]\n",
            " [-0.00049202]\n",
            " [ 0.01782911]\n",
            " [ 0.00581183]\n",
            " [-0.0089093 ]\n",
            " [-0.00317118]\n",
            " [-0.00189856]\n",
            " [-0.00679606]\n",
            " [-0.00058896]\n",
            " [ 0.00344766]\n",
            " [-0.00796293]\n",
            " [ 0.00446506]\n",
            " [ 0.00438166]\n",
            " [-0.01683104]\n",
            " [-0.00724097]\n",
            " [-0.00739359]\n",
            " [-0.019561  ]\n",
            " [-0.00067624]\n",
            " [ 0.0089342 ]\n",
            " [-0.01844867]\n",
            " [-0.00496104]\n",
            " [ 0.00479258]\n",
            " [ 0.00141845]\n",
            " [-0.01135497]\n",
            " [-0.01374391]\n",
            " [ 0.01287897]\n",
            " [-0.00935347]\n",
            " [ 0.00431772]\n",
            " [ 0.01585111]\n",
            " [ 0.00840729]\n",
            " [ 0.00428108]\n",
            " [ 0.00978762]]\n"
          ]
        }
      ]
    },
    {
      "cell_type": "markdown",
      "metadata": {
        "id": "4M6mhQu0dnL6"
      },
      "source": [
        "Loss Calculation"
      ]
    },
    {
      "cell_type": "code",
      "metadata": {
        "colab": {
          "base_uri": "https://localhost:8080/"
        },
        "id": "fjGER_7ucHo2",
        "outputId": "9e86ae79-e95a-43c9-88d7-e9ece3f30007"
      },
      "source": [
        "class Loss:\n",
        "  def __call__ (self,y_pred,y_real):\n",
        "    self.y_pred = y_pred\n",
        "    self.y_real = y_real\n",
        "\n",
        "    return ((y_real - y_pred)**2).mean()\n",
        "\n",
        "  def backward(self):\n",
        "    n = self.y_real.shape()\n",
        "    self.gradient =  2*(self.y_real-self.y_pred)/n\n",
        "    return self.gradient\n",
        "\n",
        "loss = Loss()\n",
        "print(f'Our initial Loss is {loss(y_pred,y_true)}')"
      ],
      "execution_count": 26,
      "outputs": [
        {
          "output_type": "stream",
          "name": "stdout",
          "text": [
            "Our initial Loss is 104.25928302561363\n"
          ]
        }
      ]
    },
    {
      "cell_type": "markdown",
      "metadata": {
        "id": "QbeW_WrFdqHF"
      },
      "source": [
        "Backpropagation."
      ]
    },
    {
      "cell_type": "code",
      "metadata": {
        "id": "neeUY-VXdru2"
      },
      "source": [
        "\n"
      ],
      "execution_count": null,
      "outputs": []
    }
  ]
}