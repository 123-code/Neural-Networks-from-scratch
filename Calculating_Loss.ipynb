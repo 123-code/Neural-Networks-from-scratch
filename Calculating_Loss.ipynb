{
  "nbformat": 4,
  "nbformat_minor": 0,
  "metadata": {
    "colab": {
      "name": "Calculating_Loss.ipynb",
      "provenance": [],
      "authorship_tag": "ABX9TyPjzHUTGCIWIh8dLhJWvK+X",
      "include_colab_link": true
    },
    "kernelspec": {
      "name": "python3",
      "display_name": "Python 3"
    },
    "language_info": {
      "name": "python"
    }
  },
  "cells": [
    {
      "cell_type": "markdown",
      "metadata": {
        "id": "view-in-github",
        "colab_type": "text"
      },
      "source": [
        "<a href=\"https://colab.research.google.com/github/123-code/Deep-Learning-from-scratch/blob/main/Calculating_Loss.ipynb\" target=\"_parent\"><img src=\"https://colab.research.google.com/assets/colab-badge.svg\" alt=\"Open In Colab\"/></a>"
      ]
    },
    {
      "cell_type": "code",
      "metadata": {
        "id": "Xb9Co3QCJ2lW",
        "colab": {
          "base_uri": "https://localhost:8080/"
        },
        "outputId": "9d615e3a-6083-4f9c-fa34-c984f690c7f2"
      },
      "source": [
        "\n",
        "import numpy as np \n",
        "import math\n",
        "\n",
        "#log e ** x = b \n",
        "b = 3.8\n",
        "print(np.log(b))\n",
        "print(math.e**1.33500106673234)"
      ],
      "execution_count": null,
      "outputs": [
        {
          "output_type": "stream",
          "text": [
            "1.33500106673234\n",
            "3.7999999999999994\n"
          ],
          "name": "stdout"
        }
      ]
    },
    {
      "cell_type": "code",
      "metadata": {
        "colab": {
          "base_uri": "https://localhost:8080/"
        },
        "id": "mSXqhzOdOFd9",
        "outputId": "aca6e67e-f8a8-4e78-dc4d-837c5b89fad4"
      },
      "source": [
        "# Measure how bad the model is doing\n",
        "\n",
        "softmax_output = [0.7,0.1,0.2]\n",
        "\n",
        "target_output = [1,0,0]\n",
        "\n",
        "loss = -(math.log(softmax_output[0])*target_output[0]+\n",
        "         math.log(softmax_output[1])*target_output[1]+\n",
        "         math.log(softmax_output[0])*target_output[2])\n",
        "print(loss)\n",
        " \n"
      ],
      "execution_count": null,
      "outputs": [
        {
          "output_type": "stream",
          "text": [
            "0.35667494393873245\n"
          ],
          "name": "stdout"
        }
      ]
    }
  ]
}