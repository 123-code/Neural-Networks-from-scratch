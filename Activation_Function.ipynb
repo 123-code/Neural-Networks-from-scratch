{
  "nbformat": 4,
  "nbformat_minor": 0,
  "metadata": {
    "colab": {
      "name": "Activation Function.ipynb",
      "provenance": [],
      "collapsed_sections": [],
      "authorship_tag": "ABX9TyOTXWn+jB5iSu8i8ORXLcCy",
      "include_colab_link": true
    },
    "kernelspec": {
      "name": "python3",
      "display_name": "Python 3"
    },
    "language_info": {
      "name": "python"
    }
  },
  "cells": [
    {
      "cell_type": "markdown",
      "metadata": {
        "id": "view-in-github",
        "colab_type": "text"
      },
      "source": [
        "<a href=\"https://colab.research.google.com/github/123-code/Deep-Learning-from-scratch/blob/main/Activation_Function.ipynb\" target=\"_parent\"><img src=\"https://colab.research.google.com/assets/colab-badge.svg\" alt=\"Open In Colab\"/></a>"
      ]
    },
    {
      "cell_type": "code",
      "metadata": {
        "colab": {
          "base_uri": "https://localhost:8080/"
        },
        "id": "98OoQMWUaZ9-",
        "outputId": "0b3cd4fc-7bc0-42a7-e1ed-28fd74256b0a"
      },
      "source": [
        "import numpy as np\n",
        "\n",
        "inputs = [0,2,-1,3.3,-2.7,1.1,-2.2,-100]\n",
        "\n",
        "#RELU  Activation function \n",
        "output = []\n",
        "\n",
        "for i in inputs:\n",
        "  if i > 0:\n",
        "    output.append(i)\n",
        "  elif i<=0:\n",
        "    output.append(0)\n",
        "\n",
        "print(output)\n"
      ],
      "execution_count": 5,
      "outputs": [
        {
          "output_type": "stream",
          "text": [
            "[0, 2, 0, 3.3, 0, 1.1, 0, 0]\n"
          ],
          "name": "stdout"
        }
      ]
    },
    {
      "cell_type": "markdown",
      "metadata": {
        "id": "Osw104ZmeAw-"
      },
      "source": [
        "RELU Activation Function object implementation."
      ]
    },
    {
      "cell_type": "code",
      "metadata": {
        "colab": {
          "base_uri": "https://localhost:8080/"
        },
        "id": "pC2PDBicd4Do",
        "outputId": "86963aa9-c40c-4111-9ff5-7147db727b22"
      },
      "source": [
        "import nnfs\n",
        "from nnfs.datasets import spiral_data\n",
        "nnfs.init()\n",
        "\n",
        "X = [[1,2,3,2.5],\n",
        "    [2.0,5.0,-1.0,2.0],\n",
        "    [-1.5,2.7,3.3,-0.8]]\n",
        "\n",
        "\n",
        "class Layer:\n",
        "  def __init__(self,inputs,nneurons):\n",
        "    self.weights = 0.10 * np.random.randn(inputs,nneurons)\n",
        "    self.bias = np.zeros((1,nneurons))\n",
        "\n",
        "  def forward(self,inputs):\n",
        "      self.output = np.dot(inputs,self.weights) + self.bias\n",
        "     \n",
        "\n",
        "X,y = spiral_data(100,3)\n",
        "class RELU_A:\n",
        "  def Forward(self,inputs):\n",
        "\n",
        "    self.output = np.maximum(0,inputs)\n",
        "\n",
        "Layer1 = Layer(2,5)\n",
        "Activation1 = RELU_A()\n",
        "Layer1.forward(X)\n",
        "Activation1.Forward(Layer1.output)\n",
        "#print(Layer1.output)\n",
        "print(Activation1.output)\n"
      ],
      "execution_count": 10,
      "outputs": [
        {
          "output_type": "stream",
          "text": [
            "[[0.00000000e+00 0.00000000e+00 0.00000000e+00 0.00000000e+00\n",
            "  0.00000000e+00]\n",
            " [0.00000000e+00 0.00000000e+00 0.00000000e+00 4.65504505e-04\n",
            "  4.56846210e-05]\n",
            " [0.00000000e+00 5.93469958e-05 0.00000000e+00 2.03573116e-04\n",
            "  6.10024377e-04]\n",
            " ...\n",
            " [1.13291524e-01 0.00000000e+00 0.00000000e+00 8.11079666e-02\n",
            "  0.00000000e+00]\n",
            " [1.34588361e-01 0.00000000e+00 3.09493970e-02 5.66337556e-02\n",
            "  0.00000000e+00]\n",
            " [1.07817926e-01 0.00000000e+00 0.00000000e+00 8.72561932e-02\n",
            "  0.00000000e+00]]\n"
          ],
          "name": "stdout"
        }
      ]
    },
    {
      "cell_type": "code",
      "metadata": {
        "colab": {
          "base_uri": "https://localhost:8080/"
        },
        "id": "o8G3zm4bdvc4",
        "outputId": "46d60434-8c09-44c8-9852-c3814249d8a5"
      },
      "source": [
        "!pip install nnfs"
      ],
      "execution_count": 3,
      "outputs": [
        {
          "output_type": "stream",
          "text": [
            "Requirement already satisfied: nnfs in /usr/local/lib/python3.7/dist-packages (0.5.1)\n",
            "Requirement already satisfied: numpy in /usr/local/lib/python3.7/dist-packages (from nnfs) (1.19.5)\n"
          ],
          "name": "stdout"
        }
      ]
    }
  ]
}